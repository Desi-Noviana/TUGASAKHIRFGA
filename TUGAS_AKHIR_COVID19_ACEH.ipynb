{
  "nbformat": 4,
  "nbformat_minor": 0,
  "metadata": {
    "colab": {
      "private_outputs": true,
      "provenance": [],
      "toc_visible": true,
      "authorship_tag": "ABX9TyNEIWb1uN0OpGy4gSGp7wIk",
      "include_colab_link": true
    },
    "kernelspec": {
      "name": "python3",
      "display_name": "Python 3"
    },
    "language_info": {
      "name": "python"
    }
  },
  "cells": [
    {
      "cell_type": "markdown",
      "metadata": {
        "id": "view-in-github",
        "colab_type": "text"
      },
      "source": [
        "<a href=\"https://colab.research.google.com/github/Desi-Noviana/TUGASAKHIRFGA/blob/main/TUGAS_AKHIR_COVID19_ACEH.ipynb\" target=\"_parent\"><img src=\"https://colab.research.google.com/assets/colab-badge.svg\" alt=\"Open In Colab\"/></a>"
      ]
    },
    {
      "cell_type": "markdown",
      "source": [
        "# Memanggil API dan Library yang dibutuhkan"
      ],
      "metadata": {
        "id": "fmtA0NE3pGq_"
      }
    },
    {
      "cell_type": "code",
      "source": [
        "# Mengakses API\n",
        "import requests\n",
        "resp_aceh = requests.get('https://data.covid19.go.id/public/api/prov_detail_ACEH.json')\n",
        "#Mengekstrak Respon\n",
        "cov_aceh_raw = resp_aceh.json()\n",
        "print(resp_aceh)"
      ],
      "metadata": {
        "id": "ckLhSHVHZnlN"
      },
      "execution_count": null,
      "outputs": []
    },
    {
      "cell_type": "markdown",
      "source": [
        "# Analisis Data"
      ],
      "metadata": {
        "id": "cdGomiszu_nl"
      }
    },
    {
      "cell_type": "code",
      "source": [
        "#Analisis Data\n",
        "print('Nama-nama elemen utama:\\n', cov_aceh_raw.keys())\n",
        "print('\\nJumlah total kasus COVID-19 di ACEH : %d' %cov_aceh_raw['kasus_total'])\n",
        "print('Persentase kematian akibat COVID-19 di ACEH : %f%%' %cov_aceh_raw['meninggal_persen'])\n",
        "print('Persentase tingkat kesembuhan dari COVID-19 di ACEH : %f%%' %cov_aceh_raw['sembuh_persen'])"
      ],
      "metadata": {
        "id": "ZxGU6yWxZ6qS"
      },
      "execution_count": null,
      "outputs": []
    },
    {
      "cell_type": "code",
      "source": [
        "cov_aceh_raw #Menampilkan seluruh data covid19 ACEH"
      ],
      "metadata": {
        "id": "Nma1t3GsaHQg"
      },
      "execution_count": null,
      "outputs": []
    },
    {
      "cell_type": "markdown",
      "source": [
        "# Menapilkan Informasi Data Yang Lebih Lengkap"
      ],
      "metadata": {
        "id": "ZsrjJu1lvTQ0"
      }
    },
    {
      "cell_type": "code",
      "source": [
        "#mendapatkan informasi yang lebih lengkap\n",
        "import numpy as np\n",
        "import pandas as pd\n",
        "cov_aceh = pd.DataFrame(cov_aceh_raw['list_perkembangan'])\n",
        "print('Info cov_aceh:\\n', cov_aceh.info())\n",
        "print('\\nLima data teratas cov_aceh:\\n', cov_aceh.head())"
      ],
      "metadata": {
        "id": "mfiF2DF1aRg7"
      },
      "execution_count": null,
      "outputs": []
    },
    {
      "cell_type": "code",
      "source": [
        "#menjinakkan data/Manipulasi data\n",
        "cov_aceh_tidy = (cov_aceh.drop(columns=[item for item in cov_aceh.columns\n",
        "                                          if item.startswith('AKUMULASI')\n",
        "                                          or item.startswith('DIRAWAT')])\n",
        ".rename(columns=str.lower)\n",
        ".rename(columns={'kasus': 'kasus_baru'})\n",
        ")\n",
        "cov_aceh_tidy['tanggal'] = pd.to_datetime(cov_aceh_tidy['tanggal']*1e6, unit='ns')\n",
        "print('Lima data teratas:\\n', cov_aceh_tidy.head())"
      ],
      "metadata": {
        "id": "SeAKSpLhaY6u"
      },
      "execution_count": null,
      "outputs": []
    },
    {
      "cell_type": "code",
      "source": [
        "cov_aceh_tidy.shape\n",
        "# %%\n",
        "cov_aceh_tidy.isnull().sum()\n",
        "# Disimpan dalam bentuk format csv\n",
        "cov_aceh_tidy.to_csv('D:\\\\downloads\\\\DATASET-DATASCIENCE-20211015T124508Z-001\\\\Analisis Data Covid di Indonesia\\\\data-API-Aceh.csv')"
      ],
      "metadata": {
        "id": "cmhbPQ5Oagso"
      },
      "execution_count": null,
      "outputs": []
    },
    {
      "cell_type": "code",
      "source": [
        "#visualisasi data\n",
        "import matplotlib.pyplot as plt\n",
        "\n",
        "plt.clf()\n",
        "fig, ax = plt.subplots(figsize=(10,5))\n",
        "ax.bar(data=cov_aceh_tidy, x='tanggal', height='kasus_baru')\n",
        "plt.show()"
      ],
      "metadata": {
        "id": "Fn8DbrlBas-d"
      },
      "execution_count": null,
      "outputs": []
    },
    {
      "cell_type": "code",
      "source": [
        "#grafik kasus baru\n",
        "import matplotlib.dates as mdates\n",
        "fig, ax = plt.subplots(figsize=(10,5))\n",
        "ax.bar(data=cov_aceh_tidy, x='tanggal', height='kasus_baru', color='orange')\n",
        "fig.suptitle('Kasus Harian Positif COVID-19 di ACEH', \n",
        "             y=1.00, fontsize=16, fontweight='bold', ha='center',  color='green')\n",
        "ax.set_title('\\n Terjadi pelonjakan kasus di Pertengahan bulan Agustus-September 2021',\n",
        "             fontsize=10, ha='center')\n",
        "ax.set_xlabel('')\n",
        "ax.set_ylabel('Jumlah kasus')\n",
        "ax.text(1, -0.3, 'Sumber data: covid.19.go.id', color='blue',\n",
        "        ha='right', transform=ax.transAxes)\n",
        "ax.set_xticklabels(ax.get_xticks(), rotation=90)\n",
        "\n",
        "ax.xaxis.set_major_locator(mdates.MonthLocator())\n",
        "ax.xaxis.set_major_formatter(mdates.DateFormatter('%b %Y'))\n",
        "\n",
        "plt.grid(axis='y')\n",
        "plt.tight_layout()\n",
        "plt.show()"
      ],
      "metadata": {
        "id": "LpVLNSeXa1Pn"
      },
      "execution_count": null,
      "outputs": []
    },
    {
      "cell_type": "code",
      "source": [
        "#grafik kasus sembuh\n",
        "fig, ax = plt.subplots(figsize=(10,5))\n",
        "ax.bar(data=cov_aceh_tidy, x='tanggal', height='sembuh', color='green')\n",
        "ax.set_title('Kasus Harian Sembuh Dari COVID-19 di ACEH',\n",
        "fontsize=22, color='purple')\n",
        "ax.set_xlabel('')\n",
        "ax.set_ylabel('Jumlah kasus')\n",
        "ax.text(1, -0.3, 'Sumber data: covid.19.go.id', color='blue',\n",
        "        ha='right', transform=ax.transAxes)\n",
        "ax.set_xticklabels(ax.get_xticks(), rotation=90)\n",
        "\n",
        "ax.xaxis.set_major_locator(mdates.MonthLocator())\n",
        "ax.xaxis.set_major_formatter(mdates.DateFormatter('%b %Y'))\n",
        "\n",
        "plt.grid(axis='y')\n",
        "plt.tight_layout()\n",
        "plt.show()"
      ],
      "metadata": {
        "id": "QaERLy5Gl_0y"
      },
      "execution_count": null,
      "outputs": []
    },
    {
      "cell_type": "code",
      "source": [
        "#grafik kasus meninggal\n",
        "plt.clf()\n",
        "fig, ax = plt.subplots(figsize=(10,5))\n",
        "ax.bar(data=cov_aceh_tidy, x='tanggal', height='meninggal', color='red')\n",
        "ax.set_title('Kasus Harian Meninggal Dari COVID-19 di ACEH',\n",
        "fontsize=22)\n",
        "ax.set_xlabel('')\n",
        "ax.set_ylabel('Jumlah kasus')\n",
        "ax.text(1, -0.3, 'Sumber data: covid.19.go.id', color='blue',\n",
        "        ha='right', transform=ax.transAxes)\n",
        "ax.set_xticklabels(ax.get_xticks(), rotation=90)\n",
        "\n",
        "ax.xaxis.set_major_locator(mdates.MonthLocator())\n",
        "ax.xaxis.set_major_formatter(mdates.DateFormatter('%b %Y'))\n",
        "\n",
        "plt.grid(axis='y')\n",
        "plt.tight_layout()\n",
        "plt.show()"
      ],
      "metadata": {
        "id": "WxXxuLZMm8ni"
      },
      "execution_count": null,
      "outputs": []
    },
    {
      "cell_type": "code",
      "source": [
        "#cek pekan ini\n",
        "cov_aceh_pekanan = (cov_aceh_tidy.set_index('tanggal')['kasus_baru']\n",
        "\t\t\t\t\t  .resample('W')\n",
        "\t\t\t\t\t  .sum()\n",
        "\t\t\t\t\t  .reset_index()\n",
        "\t\t\t\t\t  .rename(columns={'kasus_baru': 'jumlah'})\n",
        "                    )\n",
        "cov_aceh_pekanan['tahun'] = cov_aceh_pekanan['tanggal'].apply(lambda x: x.year)\n",
        "cov_aceh_pekanan['pekan_ke'] = cov_aceh_pekanan['tanggal'].apply(lambda x: x.weekofyear)\n",
        "cov_aceh_pekanan = cov_aceh_pekanan[['tahun', 'pekan_ke', 'jumlah']].sort_values(['tahun', 'pekan_ke'], ascending=[False, False])\n",
        "\n",
        "print('Info cov_jatim_pekanan:')\n",
        "print(cov_aceh_pekanan.info())\n",
        "print('\\nLima data teratas cov_jatim_pekanan:\\n', cov_aceh_pekanan)"
      ],
      "metadata": {
        "id": "e-u9_lVSnEpk"
      },
      "execution_count": null,
      "outputs": []
    },
    {
      "cell_type": "code",
      "source": [
        "cov_aceh_pekanan['jumlah_pekanlalu'] = cov_aceh_pekanan['jumlah'].shift().replace(np.nan, 0).astype(np.int)\n",
        "cov_aceh_pekanan['lebih_baik'] = cov_aceh_pekanan['jumlah'] < cov_aceh_pekanan['jumlah_pekanlalu']\n",
        "\n",
        "print('Sepuluh data teratas:\\n', cov_aceh_pekanan.head(10))\n",
        "\n",
        "# download data dalam format csv\n",
        "cov_aceh_pekanan.to_csv('D:\\\\downloads\\\\DATASET-DATASCIENCE-20211015T124508Z-001\\\\Analisis Data Covid di Indonesia\\\\data-API-ACEH-pekanan.csv')"
      ],
      "metadata": {
        "id": "rBH6VqZbnPaN"
      },
      "execution_count": null,
      "outputs": []
    },
    {
      "cell_type": "code",
      "source": [
        "#bar chart\n",
        "plt.clf()\n",
        "jml_tahun_terjadi_covid19 = cov_aceh_pekanan['tahun'].nunique()\n",
        "tahun_terjadi_covid19 = cov_aceh_pekanan['tahun'].unique()\n",
        "fig, axes = plt.subplots(nrows=jml_tahun_terjadi_covid19,\n",
        "\t\t\t\t\t\t figsize = (10,3*jml_tahun_terjadi_covid19))\n",
        "\n",
        "fig.suptitle('Kasus Pekanan Positif COVID-19 di ACEH',\n",
        "\t\t\t y=1.00, fontsize=16, fontweight='bold', ha='center')\n",
        "for i, ax in enumerate(axes):\n",
        "\tax.bar(data=cov_aceh_pekanan.loc[cov_aceh_pekanan['tahun']==tahun_terjadi_covid19[i]],\n",
        "\t   x='pekan_ke', height='jumlah',\n",
        "\t   color=['green' if x is True else 'yellow'\n",
        "\t\t \tfor x in cov_aceh_pekanan['lebih_baik']])\n",
        "\tif i == 0:\n",
        "\t\t ax.set_title('\\nKolom hijau menunjukan penambahan kasus baru lebih sedikit dibandingkan satu pekan sebelumnya',\n",
        "\t\t\t\t\t   fontsize=10)\n",
        "\telif i == jml_tahun_terjadi_covid19-1:\n",
        "\t\t\tax.text(1, -0.2, 'Sumber data: covid.19.go.id', color='blue',\n",
        "\t\t\t\t\tha='right', transform=ax.transAxes)\n",
        "\t\t\t\t\t   \n",
        "\tax.set_xlim([0, 52.5])\n",
        "\tax.set_ylim([0, max(cov_aceh_pekanan['jumlah'])])\n",
        "\tax.set_xlabel(' ')\n",
        "\tax.set_ylabel('Jumlah kasus %d'%(tahun_terjadi_covid19[i],))\n",
        "\tax.grid(axis='y')\n",
        "\n",
        "plt.tight_layout()\n",
        "plt.show()"
      ],
      "metadata": {
        "id": "ElGXFnGMnYQp"
      },
      "execution_count": null,
      "outputs": []
    },
    {
      "cell_type": "code",
      "source": [
        "#pola dan dinamika\n",
        "cov_aceh_akumulasi = cov_aceh_tidy[['tanggal']].copy()\n",
        "cov_aceh_akumulasi['akumulasi_aktif'] = (cov_aceh_tidy['kasus_baru'] - cov_aceh_tidy['sembuh'] - cov_aceh_tidy['meninggal']).cumsum()\n",
        "cov_aceh_akumulasi['akumulasi_sembuh'] = cov_aceh_tidy['sembuh'].cumsum()\n",
        "cov_aceh_akumulasi['akumulasi_meninggal'] = cov_aceh_tidy['meninggal'].cumsum()\n",
        "print(cov_aceh_akumulasi.tail())\n",
        "\n",
        "\n",
        "# download data pola dinamika dalam format csv\n",
        "cov_aceh_akumulasi.to_csv('D:\\\\downloads\\\\DATASET-DATASCIENCE-20211015T124508Z-001\\\\Analisis Data Covid di Indonesia\\\\data-API-ACEH-akumulasi.csv')"
      ],
      "metadata": {
        "id": "nnHih9u-n5P9"
      },
      "execution_count": null,
      "outputs": []
    },
    {
      "cell_type": "code",
      "source": [
        "#Line Chart\n",
        "plt.clf()\n",
        "fig, ax = plt.subplots(figsize=(10,5))\n",
        "ax.plot('tanggal', 'akumulasi_aktif', data=cov_aceh_akumulasi, lw=2)\n",
        "\n",
        "ax.set_title('Akumulasi aktif COVID-19 di ACEH',\n",
        "             fontsize=22)\n",
        "ax.set_xlabel('')\n",
        "ax.set_ylabel('Akumulasi kejadian')\n",
        "ax.text(1, -0.3, 'Sumber data: covid.19.go.id', color='blue',\n",
        "        ha='right', transform=ax.transAxes)\n",
        "ax.set_xticklabels(ax.get_xticks(), rotation=90)\n",
        "\n",
        "ax.xaxis.set_major_locator(mdates.MonthLocator())\n",
        "ax.xaxis.set_major_formatter(mdates.DateFormatter('%b %Y'))\n",
        "\n",
        "plt.grid()\n",
        "plt.tight_layout()\n",
        "plt.show()"
      ],
      "metadata": {
        "id": "AqeSBu76oG9f"
      },
      "execution_count": null,
      "outputs": []
    },
    {
      "cell_type": "code",
      "source": [
        "plt.clf()\n",
        "fig, ax = plt.subplots(figsize=(10,5))\n",
        "cov_aceh_akumulasi_ts = cov_aceh_akumulasi.set_index('tanggal')\n",
        "cov_aceh_akumulasi_ts.plot(kind='line', ax=ax, lw=3, color=['blue','green','red'])\n",
        "\n",
        "ax.set_title('Akumulasi Kasus COVID-19 di ACEH', fontsize=22)\n",
        "ax.set_xlabel('')\n",
        "ax.set_ylabel('Akumulasi kejadian')\n",
        "ax.text(1, -0.3, 'Sumber data: covid.19.go.id', color='blue', ha='right', transform=ax.transAxes)\n",
        "\n",
        "plt.grid()\n",
        "plt.tight_layout()\n",
        "plt.show()\t\t\t\n",
        "\n",
        "\n",
        "# %%\n",
        "cov_aceh_akumulasi_ts.to_csv('D:\\\\downloads\\\\DATASET-DATASCIENCE-20211015T124508Z-001\\\\Analisis Data Covid di Indonesia\\\\data-API-ACEH-Akumulasi-ts.csv')"
      ],
      "metadata": {
        "id": "lmLwn_LHoToX"
      },
      "execution_count": null,
      "outputs": []
    },
    {
      "cell_type": "markdown",
      "source": [
        "#KESIMPULAN\n",
        "\n",
        "\n",
        "*   Kasus positif harian mengalami pelonjakan pada pertengahan bulan Juli hingga Agustus-September 2021\n",
        "*   Kasus Sembuh Harian mengalami peningkatan pada pertengahan bulan Agustus 2021 dan pertengahan September 2021\n",
        "* Kasus Meninggal Harian Mengalami peningkatan dimulai dari bulan Agustus hingga September 2021\n",
        "* Dalam dinamika kasus covid19 ACEH angka peningkatan kesembuhan pasien lebih banyak meningkat dari kasus aktif dan meninggal\n",
        "\n",
        "\n",
        "\n"
      ],
      "metadata": {
        "id": "WZD1TzkC2o1b"
      }
    }
  ]
}